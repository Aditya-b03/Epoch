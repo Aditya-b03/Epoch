{
 "cells": [
  {
   "cell_type": "code",
   "execution_count": 1,
   "metadata": {},
   "outputs": [],
   "source": [
    "import gymnasium as gym\n",
    "import random\n",
    "import numpy as np\n",
    "import math"
   ]
  },
  {
   "cell_type": "code",
   "execution_count": 2,
   "metadata": {},
   "outputs": [],
   "source": [
    "env = gym.make(\"CliffWalking-v0\",render_mode=\"human\")"
   ]
  },
  {
   "cell_type": "code",
   "execution_count": 3,
   "metadata": {},
   "outputs": [
    {
     "name": "stdout",
     "output_type": "stream",
     "text": [
      "Discrete(48)\n",
      "Discrete(4)\n"
     ]
    }
   ],
   "source": [
    "print(env.observation_space)\n",
    "print(env.action_space)\n",
    "action_space = [0,1,2,3]"
   ]
  },
  {
   "cell_type": "code",
   "execution_count": 4,
   "metadata": {},
   "outputs": [],
   "source": [
    "# #Random testing\n",
    "# episodes = 1\n",
    "# for episode in range(0,episodes):\n",
    "#     state = np.array(env.reset()[0])\n",
    "#     done = False\n",
    "#     score = 0\n",
    "#     steps = 0\n",
    "#     while not done and steps < 100:\n",
    "#         action = random.choice(action_space)\n",
    "#         observation, reward, done,_,_  = env.step(action)\n",
    "#         steps+=1\n",
    "#         score+=reward\n",
    "#         env.render()\n",
    "    \n",
    "#     print(f\"Episode {episode+1} : score = {score}\")\n",
    "# env.close()"
   ]
  },
  {
   "cell_type": "code",
   "execution_count": 5,
   "metadata": {},
   "outputs": [
    {
     "name": "stdout",
     "output_type": "stream",
     "text": [
      "[[0, 1, 2, 3, 4, 5, 6, 7, 8, 9, 10, 11], [12, 13, 14, 15, 16, 17, 18, 19, 20, 21, 22, 23], [24, 25, 26, 27, 28, 29, 30, 31, 32, 33, 34, 35], [36, 37, 38, 39, 40, 41, 42, 43, 44, 45, 46, 47]]\n"
     ]
    }
   ],
   "source": [
    "StateGrid = [[i*12 + j for j in range(12)]for i in range(4)]\n",
    "print(StateGrid)"
   ]
  },
  {
   "cell_type": "code",
   "execution_count": 6,
   "metadata": {},
   "outputs": [],
   "source": [
    "discount = 0.7"
   ]
  },
  {
   "cell_type": "code",
   "execution_count": 7,
   "metadata": {},
   "outputs": [],
   "source": [
    "def ingrid(i,j):\n",
    "    if i < 0 or j < 0 or j >= 12 or i >= 4:\n",
    "        return False\n",
    "    return True\n",
    "\n",
    "def next_states(state):\n",
    "    i = state//12\n",
    "    j = state%12\n",
    "    new_state = []\n",
    "    #up\n",
    "    if ingrid(i-1,j): new_state.append(StateGrid[i-1][j]) \n",
    "    #down\n",
    "    if ingrid(i+1,j): new_state.append(StateGrid[i+1][j])\n",
    "    #left\n",
    "    if ingrid(i,j-1): new_state.append(StateGrid[i][j-1])\n",
    "    #right\n",
    "    if ingrid(i,j+1): new_state.append(StateGrid[i][j+1])\n",
    "    \n",
    "    \n",
    "    return new_state"
   ]
  },
  {
   "cell_type": "code",
   "execution_count": 8,
   "metadata": {},
   "outputs": [],
   "source": [
    "def reward_model(state):\n",
    "    if(state == 47):\n",
    "        return 1.0\n",
    "    elif state <= 36:\n",
    "        return -1.0\n",
    "    elif 37 <= state <= 46:\n",
    "        return -100.0\n",
    "    else: \n",
    "        return -1.0\n",
    "    \n",
    "\n",
    "\n",
    "def iteration(values):\n",
    "\n",
    "    def future_reward(nextStates, newState):\n",
    "        val = float(values[newState])\n",
    "        return val\n",
    "\n",
    "    convergence = 0\n",
    "    new_values = [-1*math.inf]*48\n",
    "    for row in StateGrid:\n",
    "        for state in row:\n",
    "            # #print(state)\n",
    "            # if 37 <= state <= 46:\n",
    "            #     new_values[state] = -100.0\n",
    "            # elif state == 47:\n",
    "            #     new_values[state] = values[state] + reward_model(state)\n",
    "            #else:\n",
    "            nextStates = next_states(state)\n",
    "            for newState in nextStates:\n",
    "                new_values[state] = max(new_values[state], reward_model(state) + discount*(future_reward(nextStates,newState)))\n",
    "            convergence = max(convergence,abs(new_values[state]-values[state]))\n",
    "\n",
    "    \n",
    "    return (new_values , convergence)"
   ]
  },
  {
   "cell_type": "code",
   "execution_count": 9,
   "metadata": {},
   "outputs": [
    {
     "name": "stdout",
     "output_type": "stream",
     "text": [
      "14\n",
      "-3.3107258975716998 -3.2913480954902994 -3.2830433231696996 -3.2518015606302995 -3.2265482733696995 -3.171094346630299 -3.1112522533697 -3.0063857466302997 -2.8759542533696996 -2.6702457466303002 -2.3957542533696996 -1.9842457466302998 \n",
      "-3.2913480954902994 -3.2830433231696996 -3.2518015606302995 -3.2265482733696995 -3.171094346630299 -3.1112522533697 -3.0063857466302997 -2.8759542533696996 -2.6702457466303002 -2.3957542533696996 -1.9842457466302998 -1.4157542533697 \n",
      "-3.2830433231696996 -3.2518015606302995 -3.2265482733696995 -3.171094346630299 -3.1112522533697 -3.0063857466302997 -2.8759542533696996 -2.6702457466303002 -2.3957542533696996 -1.9842457466302998 -1.4157542533697 -0.5842457466302999 \n",
      "-3.2913480954902994 -102.2830433231697 -102.2518015606303 -102.2265482733697 -102.1710943466303 -102.1112522533697 -102.0063857466303 -101.8759542533697 -101.6702457466303 -101.3957542533697 -99.5842457466303 0.5842457466302999 \n"
     ]
    }
   ],
   "source": [
    "state_values = [float(0)]*48\n",
    "delta = 1\n",
    "it = 0\n",
    "while delta > 0.01 and 10000 > it:\n",
    "    state_values , delta = iteration(state_values)\n",
    "    it += 1\n",
    "\n",
    "print(it)\n",
    "for i in range(4):\n",
    "    for j in range(12):\n",
    "        print(state_values[StateGrid[i][j]] , end=\" \")\n",
    "    print()"
   ]
  },
  {
   "cell_type": "code",
   "execution_count": null,
   "metadata": {},
   "outputs": [],
   "source": [
    "def predict_action(state):\n",
    "    val = float(-1*math.inf)\n",
    "    action_state = -1\n",
    "    for states in next_states(state):\n",
    "        if(state == -1): continue\n",
    "        if val < state_values[states]:\n",
    "            val = state_values[states]\n",
    "            action_state = states \n",
    "\n",
    "    #left\n",
    "    if action_state + 1 == state:\n",
    "        return 3\n",
    "    #down\n",
    "    elif action_state - 12 == state:\n",
    "        return 2\n",
    "    #right\n",
    "    elif action_state - 1 == state:\n",
    "        return 1\n",
    "    \n",
    "    return 0\n",
    "\n",
    "#Random testing\n",
    "episodes = 1\n",
    "for episode in range(0,episodes):\n",
    "    state = np.array(env.reset()[0])\n",
    "    done = False\n",
    "    score = 0\n",
    "    steps = 0\n",
    "    while not done and steps < 100:\n",
    "        action = predict_action(state)\n",
    "        state, reward, done,_,_  = env.step(action)\n",
    "        steps+=1\n",
    "        score+=reward\n",
    "        env.render()\n",
    "    \n",
    "    print(f\"Episode {episode+1} : score = {score}\")\n",
    "env.close()"
   ]
  }
 ],
 "metadata": {
  "kernelspec": {
   "display_name": "Python 3",
   "language": "python",
   "name": "python3"
  },
  "language_info": {
   "codemirror_mode": {
    "name": "ipython",
    "version": 3
   },
   "file_extension": ".py",
   "mimetype": "text/x-python",
   "name": "python",
   "nbconvert_exporter": "python",
   "pygments_lexer": "ipython3",
   "version": "3.10.6"
  },
  "orig_nbformat": 4
 },
 "nbformat": 4,
 "nbformat_minor": 2
}
