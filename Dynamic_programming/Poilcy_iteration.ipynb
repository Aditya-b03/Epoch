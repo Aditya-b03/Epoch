{
 "cells": [
  {
   "cell_type": "code",
   "execution_count": 1,
   "metadata": {},
   "outputs": [],
   "source": [
    "import gymnasium as gym\n",
    "import random\n",
    "import numpy as np\n",
    "import math\n",
    "import pygame"
   ]
  },
  {
   "cell_type": "code",
   "execution_count": 2,
   "metadata": {},
   "outputs": [],
   "source": [
    "env = gym.make(\"CliffWalking-v0\",render_mode=\"human\")"
   ]
  },
  {
   "cell_type": "code",
   "execution_count": 3,
   "metadata": {},
   "outputs": [
    {
     "name": "stdout",
     "output_type": "stream",
     "text": [
      "Discrete(48)\n",
      "Discrete(4)\n"
     ]
    }
   ],
   "source": [
    "print(env.observation_space)\n",
    "print(env.action_space)\n",
    "action_space = [0,1,2,3]"
   ]
  },
  {
   "cell_type": "code",
   "execution_count": 4,
   "metadata": {},
   "outputs": [],
   "source": [
    "# #Random testing\n",
    "# episodes = 1\n",
    "# for episode in range(0,episodes):\n",
    "#     state = np.array(env.reset()[0])\n",
    "#     done = False\n",
    "#     score = 0\n",
    "#     steps = 0\n",
    "#     while not done and steps < 100:\n",
    "#         action = random.choice(action_space)\n",
    "#         observation, reward, done,_,_  = env.step(action)\n",
    "#         steps+=1\n",
    "#         score+=reward\n",
    "#         env.render()\n",
    "    \n",
    "#     print(f\"Episode {episode+1} : score = {score}\")\n",
    "# env.close()"
   ]
  },
  {
   "cell_type": "code",
   "execution_count": 5,
   "metadata": {},
   "outputs": [
    {
     "name": "stdout",
     "output_type": "stream",
     "text": [
      "[[0, 1, 2, 3, 4, 5, 6, 7, 8, 9, 10, 11], [12, 13, 14, 15, 16, 17, 18, 19, 20, 21, 22, 23], [24, 25, 26, 27, 28, 29, 30, 31, 32, 33, 34, 35], [36, 37, 38, 39, 40, 41, 42, 43, 44, 45, 46, 47]]\n"
     ]
    }
   ],
   "source": [
    "StateGrid = [[i*12 + j for j in range(12)]for i in range(4)]\n",
    "print(StateGrid)"
   ]
  },
  {
   "cell_type": "code",
   "execution_count": 6,
   "metadata": {},
   "outputs": [],
   "source": [
    "discount = 0.7"
   ]
  },
  {
   "cell_type": "code",
   "execution_count": 7,
   "metadata": {},
   "outputs": [],
   "source": [
    "def ingrid(i,j):\n",
    "    if i < 0 or j < 0 or j >= 12 or i >= 4:\n",
    "        return False\n",
    "    return True\n",
    "\n",
    "def next_states(state):\n",
    "    i = state//12\n",
    "    j = state%12\n",
    "    new_state = []\n",
    "    #up\n",
    "    if ingrid(i-1,j): new_state.append(StateGrid[i-1][j])\n",
    "    else : new_state.append(state) \n",
    "    #right\n",
    "    if ingrid(i,j+1): new_state.append(StateGrid[i][j+1])\n",
    "    else : new_state.append(state) \n",
    "    #down\n",
    "    if ingrid(i+1,j): new_state.append(StateGrid[i+1][j])\n",
    "    else : new_state.append(state) \n",
    "    #left\n",
    "    if ingrid(i,j-1): new_state.append(StateGrid[i][j-1])\n",
    "    else : new_state.append(state) \n",
    "   \n",
    "    return new_state"
   ]
  },
  {
   "cell_type": "code",
   "execution_count": 8,
   "metadata": {},
   "outputs": [],
   "source": [
    "def reward_model(state):\n",
    "    if(state == 47):\n",
    "        return 1.0\n",
    "    elif state <= 36:\n",
    "        return -1.0\n",
    "    elif 37 <= state <= 46:\n",
    "        return -100.0\n",
    "    else: \n",
    "        return -1.0\n",
    "    \n",
    "\n",
    "# policy Evaluation iteration\n",
    "def policy_evaluation(values,policy):\n",
    "    convergence = 0\n",
    "    new_values = [-1*math.inf]*48\n",
    "    for row in StateGrid:\n",
    "        for state in row:\n",
    "            nextStates = next_states(state)\n",
    "            new_values[state] = reward_model(state) + discount*(values[nextStates[policy[state]]])\n",
    "            convergence = max(convergence,abs(new_values[state]-values[state]))\n",
    "\n",
    "    return (new_values , convergence)\n",
    "\n",
    "\n",
    "# policy improvement iteration\n",
    "def policy_improvement(values,policy):\n",
    "    convergence = 1\n",
    "    new_values = [-1*math.inf]*48\n",
    "    for row in StateGrid:\n",
    "        for state in row:\n",
    "            nextStates = next_states(state)\n",
    "            new_values[state] = reward_model(state) + discount*(values[nextStates[policy[state]]])\n",
    "            for i in range(4):\n",
    "                if i != policy[state] and (reward_model(state) + discount*(values[nextStates[i]])) > new_values[state]:\n",
    "                    new_values[state] = reward_model(state) + discount*(values[nextStates[i]])\n",
    "                    policy[state] = i\n",
    "                    convergence = 0\n",
    "                    #print(f\"updating to {state} from {policy[state]} to {i}\")\n",
    "\n",
    "    return (policy , convergence)\n",
    "   \n"
   ]
  },
  {
   "cell_type": "code",
   "execution_count": 9,
   "metadata": {},
   "outputs": [
    {
     "name": "stdout",
     "output_type": "stream",
     "text": [
      "[1, 1, 1, 1, 2, 1, 2, 1, 1, 2, 1, 2, 1, 1, 1, 1, 1, 1, 2, 1, 2, 2, 1, 2, 1, 1, 1, 1, 1, 1, 1, 1, 1, 1, 1, 2, 0, 0, 0, 0, 0, 0, 0, 0, 0, 0, 1, 1]\n"
     ]
    }
   ],
   "source": [
    "policy = random.choices([0,1,2,3],weights=[0.25,0.25,0.25,0.25],k=48)\n",
    "convergence = 0\n",
    "\n",
    "\n",
    "while not convergence:\n",
    "    state_values = [0]*48\n",
    "    delta = 1\n",
    "    it = 0\n",
    "    while delta > 0.01 and 10000 > it:\n",
    "        state_values , delta = policy_evaluation(state_values,policy)\n",
    "        it += 1\n",
    "\n",
    "    policy , convergence = policy_improvement(state_values,policy)\n",
    "\n",
    "\n",
    "print(policy)\n",
    "\n"
   ]
  },
  {
   "cell_type": "code",
   "execution_count": 10,
   "metadata": {},
   "outputs": [
    {
     "name": "stdout",
     "output_type": "stream",
     "text": [
      "Episode 1 : score = -13\n"
     ]
    },
    {
     "ename": "",
     "evalue": "",
     "output_type": "error",
     "traceback": [
      "\u001b[1;31mThe Kernel crashed while executing code in the the current cell or a previous cell. Please review the code in the cell(s) to identify a possible cause of the failure. Click <a href='https://aka.ms/vscodeJupyterKernelCrash'>here</a> for more info. View Jupyter <a href='command:jupyter.viewOutput'>log</a> for further details."
     ]
    }
   ],
   "source": [
    "def predict_action(state):\n",
    "    val = float(-1*math.inf)\n",
    "    action_state = -1\n",
    "    for states in next_states(state):\n",
    "        if(state == -1): continue\n",
    "        if val < state_values[states]:\n",
    "            val = state_values[states]\n",
    "            action_state = states \n",
    "\n",
    "    #left\n",
    "    if action_state + 1 == state:\n",
    "        return 3\n",
    "    #down\n",
    "    elif action_state - 12 == state:\n",
    "        return 2\n",
    "    #right\n",
    "    elif action_state - 1 == state:\n",
    "        return 1\n",
    "    \n",
    "    return 0\n",
    "\n",
    "#Random testing\n",
    "episodes = 1\n",
    "for episode in range(0,episodes):\n",
    "    state = np.array(env.reset()[0])\n",
    "    done = False\n",
    "    score = 0\n",
    "    steps = 0\n",
    "    while not done and steps < 100:\n",
    "        action = policy[state]\n",
    "        state, reward, done,_,_  = env.step(action)\n",
    "        steps+=1\n",
    "        score+=reward\n",
    "        env.render()\n",
    "    \n",
    "    print(f\"Episode {episode+1} : score = {score}\")\n",
    "env.reset()\n",
    "pygame.quit()\n",
    "pygame.display.quit()\n",
    "env.close()\n",
    "\n"
   ]
  }
 ],
 "metadata": {
  "kernelspec": {
   "display_name": "Python 3",
   "language": "python",
   "name": "python3"
  },
  "language_info": {
   "codemirror_mode": {
    "name": "ipython",
    "version": 3
   },
   "file_extension": ".py",
   "mimetype": "text/x-python",
   "name": "python",
   "nbconvert_exporter": "python",
   "pygments_lexer": "ipython3",
   "version": "3.10.6"
  },
  "orig_nbformat": 4
 },
 "nbformat": 4,
 "nbformat_minor": 2
}
