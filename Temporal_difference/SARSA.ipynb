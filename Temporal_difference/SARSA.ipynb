{
 "cells": [
  {
   "cell_type": "code",
   "execution_count": 2,
   "metadata": {},
   "outputs": [],
   "source": [
    "import gymnasium as gym\n",
    "import random\n",
    "import numpy as np\n",
    "import math"
   ]
  },
  {
   "cell_type": "code",
   "execution_count": 3,
   "metadata": {},
   "outputs": [],
   "source": [
    "env = gym.make(\"CliffWalking-v0\")"
   ]
  },
  {
   "cell_type": "code",
   "execution_count": 4,
   "metadata": {},
   "outputs": [
    {
     "name": "stdout",
     "output_type": "stream",
     "text": [
      "Discrete(48)\n",
      "Discrete(4)\n"
     ]
    }
   ],
   "source": [
    "print(env.observation_space)\n",
    "print(env.action_space)"
   ]
  },
  {
   "cell_type": "code",
   "execution_count": 5,
   "metadata": {},
   "outputs": [],
   "source": [
    "# #Random testing\n",
    "# episodes = 1\n",
    "# for episode in range(0,episodes):\n",
    "#     state = np.array(env.reset()[0])\n",
    "#     done = False\n",
    "#     score = 0\n",
    "#     steps = 0\n",
    "#     while not done and steps < 100:\n",
    "#         action = random.choice(action_space)\n",
    "#         observation, reward, done,_,_  = env.step(action)\n",
    "#         steps+=1\n",
    "#         score+=reward\n",
    "#         env.render()\n",
    "    \n",
    "#     print(f\"Episode {episode+1} : score = {score}\")\n",
    "# env.close()"
   ]
  },
  {
   "cell_type": "code",
   "execution_count": 6,
   "metadata": {},
   "outputs": [
    {
     "name": "stdout",
     "output_type": "stream",
     "text": [
      "[[0.0, 0.0, 0.0, 0.0], [0.0, 0.0, 0.0, 0.0], [0.0, 0.0, 0.0, 0.0], [0.0, 0.0, 0.0, 0.0], [0.0, 0.0, 0.0, 0.0], [0.0, 0.0, 0.0, 0.0], [0.0, 0.0, 0.0, 0.0], [0.0, 0.0, 0.0, 0.0], [0.0, 0.0, 0.0, 0.0], [0.0, 0.0, 0.0, 0.0], [0.0, 0.0, 0.0, 0.0], [0.0, 0.0, 0.0, 0.0], [0.0, 0.0, 0.0, 0.0], [0.0, 0.0, 0.0, 0.0], [0.0, 0.0, 0.0, 0.0], [0.0, 0.0, 0.0, 0.0], [0.0, 0.0, 0.0, 0.0], [0.0, 0.0, 0.0, 0.0], [0.0, 0.0, 0.0, 0.0], [0.0, 0.0, 0.0, 0.0], [0.0, 0.0, 0.0, 0.0], [0.0, 0.0, 0.0, 0.0], [0.0, 0.0, 0.0, 0.0], [0.0, 0.0, 0.0, 0.0], [0.0, 0.0, 0.0, 0.0], [0.0, 0.0, 0.0, 0.0], [0.0, 0.0, 0.0, 0.0], [0.0, 0.0, 0.0, 0.0], [0.0, 0.0, 0.0, 0.0], [0.0, 0.0, 0.0, 0.0], [0.0, 0.0, 0.0, 0.0], [0.0, 0.0, 0.0, 0.0], [0.0, 0.0, 0.0, 0.0], [0.0, 0.0, 0.0, 0.0], [0.0, 0.0, 0.0, 0.0], [0.0, 0.0, 0.0, 0.0], [0.0, 0.0, 0.0, 0.0], [0.0, 0.0, 0.0, 0.0], [0.0, 0.0, 0.0, 0.0], [0.0, 0.0, 0.0, 0.0], [0.0, 0.0, 0.0, 0.0], [0.0, 0.0, 0.0, 0.0], [0.0, 0.0, 0.0, 0.0], [0.0, 0.0, 0.0, 0.0], [0.0, 0.0, 0.0, 0.0], [0.0, 0.0, 0.0, 0.0], [0.0, 0.0, 0.0, 0.0], [0.0, 0.0, 0.0, 0.0]]\n"
     ]
    }
   ],
   "source": [
    "#Defining different parameters\n",
    "epsilon = 0.9\n",
    "max_episode = 20000     #Training for 20000 episodes\n",
    "max_steps = 500\n",
    "alpha = 0.85\n",
    "gamma = 0.95\n",
    "decay = 0.00001\n",
    "#Initializing the Q-matrix\n",
    "Q = [[float(0) for j in range(4)] for i in range(48)]\n",
    "print(Q)"
   ]
  },
  {
   "cell_type": "code",
   "execution_count": 7,
   "metadata": {},
   "outputs": [],
   "source": [
    "#Function to choose the next action\n",
    "def predict_action(state):\n",
    "    action_val = -1*math.inf\n",
    "    action = -1\n",
    "    for i in range(4):\n",
    "        if(action_val <= Q[state][i]):\n",
    "            action = i\n",
    "            action_val = Q[state][i]\n",
    "\n",
    "    return action\n"
   ]
  },
  {
   "cell_type": "code",
   "execution_count": 8,
   "metadata": {},
   "outputs": [],
   "source": [
    "\n",
    "# Starting the SARSA learning\n",
    "for episode in range(max_episode):\n",
    "    t = 0\n",
    "    state1 = np.array(env.reset()[0])\n",
    "    action1 = env.action_space.sample()\n",
    "    done = False\n",
    "    while not done and t < max_steps:\n",
    "        #env.render()\n",
    "        #Getting the next state\n",
    "        state2, reward, done, _,_ = env.step(action1)\n",
    " \n",
    "        #Choosing the next action\n",
    "        if np.random.rand() < epsilon:\n",
    "            action2 = env.action_space.sample()\n",
    "        else:\n",
    "            action2 = predict_action(state2)\n",
    "        \n",
    "        #extra reward for reaching final state\n",
    "        if(state2 == 47):\n",
    "            reward += 100\n",
    "\n",
    "        #updating Q value acc. to SARSA update rule\n",
    "        Curr_Q = Q[state1][action1]\n",
    "        net_reward = reward + gamma * Q[state2][action2]\n",
    "        Q[state1][action1] = Q[state1][action1] + alpha * (net_reward - Curr_Q)\n",
    "\n",
    "         \n",
    "        #Updating the respective vaLues\n",
    "        t += 1\n",
    "        epsilon = max(0.01,epsilon - decay)\n",
    "        state1 = state2\n",
    "        action1 = action2\n",
    "\n",
    "    # if(episode % 10) == 0:\n",
    "    #     print(episode)"
   ]
  },
  {
   "cell_type": "code",
   "execution_count": 9,
   "metadata": {},
   "outputs": [
    {
     "name": "stdout",
     "output_type": "stream",
     "text": [
      "[-6.65962407174776, 26.022780035583292, -6.159474113567398, -6.621289690459877]\n",
      "[-6.104963466731888, 37.18729590291676, -5.783345179977813, -6.404264166792668]\n",
      "[-5.984819809975418, 41.08770768782471, -5.808638775977621, -6.080608080209899]\n",
      "[-5.2134047644233, 44.30285042352785, -4.797375335364774, -5.291932872317487]\n",
      "[-5.011339791850997, 47.68721098083407, -4.4687844922489, -4.420046331197441]\n",
      "[-3.5173083185252754, -14.350233913487656, 51.249695769365744, -4.4996580322117055]\n",
      "[-0.1166524014919813, 49.70102401154361, 54.99967975722847, -0.30663032589503525]\n",
      "[-20.877625287207174, 67.47593498437497, 15.060325081099641, 1.0123890448729664]\n",
      "[63.90705541141021, 72.07993156249998, 34.211852363384004, 41.21099188976866]\n",
      "[47.29382906302828, 76.92624374999998, 54.362531483990026, 42.69101486839683]\n",
      "[64.0324590653292, 82.02762499999999, 61.018779983365896, 60.40046487234557]\n",
      "[61.32916120934668, 62.71180108064454, 87.3975, 60.658150985857745]\n",
      "[7.856954877856484, -11.149940566565654, -6.582194307564404, -7.146525933461559]\n",
      "[-6.030536540238351, -5.68755347950643, -5.500908157126386, -6.163602356893989]\n",
      "[-5.552919827672076, -5.494465509495467, -5.342132384251375, -5.6655289441402745]\n",
      "[-5.400532549548108, -5.223380325272552, -94.79177647592306, -11.146471610103783]\n",
      "[36.97877529547994, -11.981101813116062, -13.964472661824878, -5.1150655996890295]\n",
      "[-2.9086226174788563, 54.99967975722847, -12.679727214802853, -3.675269786435428]\n",
      "[12.887360133027617, 28.309472190038047, -12.829426093551227, -12.566420353375225]\n",
      "[63.10213823515622, -12.638400683658634, 22.82924156727947, -12.762835418633383]\n",
      "[65.20234748929934, -12.64859849139415, -18.57812474858447, -12.477175023229657]\n",
      "[52.236972462061054, -25.565448999007742, -12.470511907450428, -12.517472353084347]\n",
      "[61.124543093920295, 63.83473995901479, -43.714070035032776, 47.678584606684595]\n",
      "[72.98977100263906, 83.8683917106529, 93.05, 74.79624995279212]\n",
      "[29.755550630991074, -51.604666347582096, -6.857837589060246, -6.873539031330584]\n",
      "[-5.042947069123276, -5.8595078876581415, -69.26423787873297, -12.43709727717534]\n",
      "[-5.4196224791439525, -14.427433438530391, -74.28209599455678, -14.09757673778264]\n",
      "[-35.64144026217922, -61.947179665124644, -107.85379983346668, -1.406589381587895]\n",
      "[12.570013130978577, -57.39908920162127, -79.4118861596655, -13.851928077035005]\n",
      "[-12.743689592939788, -54.790852424992025, -89.34291392224617, -77.51830427608358]\n",
      "[44.859201725399174, -96.7288316204576, -75.7231954043915, -27.337266968924894]\n",
      "[53.802519959957266, -19.87824476227372, -72.2491225920575, -12.15638089047316]\n",
      "[45.78156615490221, -19.98010354569832, -73.56573434354526, -75.59882720161234]\n",
      "[51.88893761872511, -60.64215812378822, -79.42557064397057, -42.13506197548624]\n",
      "[66.14590474698434, 93.05, -69.28067505640253, 42.54997381289261]\n",
      "[80.89684840267074, 93.05, 99.0, 87.39749970915204]\n",
      "[27.26329629178612, -75.45975528747995, 24.158673262049458, 24.62729028433463]\n",
      "[0.0, 0.0, 0.0, 0.0]\n",
      "[0.0, 0.0, 0.0, 0.0]\n",
      "[0.0, 0.0, 0.0, 0.0]\n",
      "[0.0, 0.0, 0.0, 0.0]\n",
      "[0.0, 0.0, 0.0, 0.0]\n",
      "[0.0, 0.0, 0.0, 0.0]\n",
      "[0.0, 0.0, 0.0, 0.0]\n",
      "[0.0, 0.0, 0.0, 0.0]\n",
      "[0.0, 0.0, 0.0, 0.0]\n",
      "[0.0, 0.0, 0.0, 0.0]\n",
      "[0.0, 0.0, 0.0, 0.0]\n",
      "Episode 1 : score = -19\n"
     ]
    }
   ],
   "source": [
    "epsilon = 0\n",
    "for i in range(48):\n",
    "    print(Q[i])\n",
    "\n",
    "#Random testing\n",
    "episodes = 1\n",
    "env = gym.make(\"CliffWalking-v0\", render_mode = \"human\")\n",
    "for episode in range(0,episodes):\n",
    "    state = np.array(env.reset()[0])\n",
    "    done = False\n",
    "    score = 0\n",
    "    steps = 0\n",
    "    while not done and steps < 100:\n",
    "        action = predict_action(state)\n",
    "        state, reward, done,_,_  = env.step(action)\n",
    "        steps+=1\n",
    "        score+=reward\n",
    "        env.render()\n",
    "    \n",
    "    print(f\"Episode {episode+1} : score = {score}\")\n",
    "env.close()\n"
   ]
  },
  {
   "cell_type": "code",
   "execution_count": 10,
   "metadata": {},
   "outputs": [
    {
     "name": "stdout",
     "output_type": "stream",
     "text": [
      "['right', 'right', 'right', 'right', 'right', 'down ', 'down ', 'right', 'right', 'right', 'right', 'down ']\n",
      "[' up  ', 'down ', 'down ', 'right', ' up  ', 'right', 'right', ' up  ', ' up  ', ' up  ', 'right', 'down ']\n",
      "[' up  ', ' up  ', ' up  ', 'left ', ' up  ', ' up  ', ' up  ', ' up  ', ' up  ', ' up  ', 'right', 'down ']\n",
      "[' up  ', 'left ', 'left ', 'left ', 'left ', 'left ', 'left ', 'left ', 'left ', 'left ', 'left ', 'left ']\n"
     ]
    }
   ],
   "source": [
    "# End policy\n",
    "policy = [[\"\" for i in range(12)] for i in range(4)]\n",
    "for i in range(48):\n",
    "    action = predict_action(i)\n",
    "    d = \"\"\n",
    "    if(action == 0): d = \" up  \"\n",
    "    elif(action == 1): d = \"right\"\n",
    "    elif(action == 2): d = \"down \"\n",
    "    else: d = \"left \"\n",
    "    policy[i//12][i%12] = d\n",
    "\n",
    "        \n",
    "for i in range(4):\n",
    "    print(policy[i])\n"
   ]
  }
 ],
 "metadata": {
  "kernelspec": {
   "display_name": "Python 3",
   "language": "python",
   "name": "python3"
  },
  "language_info": {
   "codemirror_mode": {
    "name": "ipython",
    "version": 3
   },
   "file_extension": ".py",
   "mimetype": "text/x-python",
   "name": "python",
   "nbconvert_exporter": "python",
   "pygments_lexer": "ipython3",
   "version": "3.10.6"
  },
  "orig_nbformat": 4
 },
 "nbformat": 4,
 "nbformat_minor": 2
}
