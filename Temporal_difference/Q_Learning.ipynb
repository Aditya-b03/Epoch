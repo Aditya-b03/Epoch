{
 "cells": [
  {
   "cell_type": "code",
   "execution_count": 1,
   "metadata": {},
   "outputs": [],
   "source": [
    "import gymnasium as gym\n",
    "import random\n",
    "import numpy as np\n",
    "import math"
   ]
  },
  {
   "cell_type": "code",
   "execution_count": 2,
   "metadata": {},
   "outputs": [],
   "source": [
    "env = gym.make(\"CliffWalking-v0\")"
   ]
  },
  {
   "cell_type": "code",
   "execution_count": 3,
   "metadata": {},
   "outputs": [
    {
     "name": "stdout",
     "output_type": "stream",
     "text": [
      "Discrete(48)\n",
      "Discrete(4)\n"
     ]
    }
   ],
   "source": [
    "print(env.observation_space)\n",
    "print(env.action_space)"
   ]
  },
  {
   "cell_type": "code",
   "execution_count": 4,
   "metadata": {},
   "outputs": [],
   "source": [
    "# #Random testing\n",
    "# episodes = 1\n",
    "# for episode in range(0,episodes):\n",
    "#     state = np.array(env.reset()[0])\n",
    "#     done = False\n",
    "#     score = 0\n",
    "#     steps = 0\n",
    "#     while not done and steps < 100:\n",
    "#         action = random.choice(action_space)\n",
    "#         observation, reward, done,_,_  = env.step(action)\n",
    "#         steps+=1\n",
    "#         score+=reward\n",
    "#         env.render()\n",
    "    \n",
    "#     print(f\"Episode {episode+1} : score = {score}\")\n",
    "# env.close()"
   ]
  },
  {
   "cell_type": "code",
   "execution_count": 5,
   "metadata": {},
   "outputs": [
    {
     "name": "stdout",
     "output_type": "stream",
     "text": [
      "[[0.0, 0.0, 0.0, 0.0], [0.0, 0.0, 0.0, 0.0], [0.0, 0.0, 0.0, 0.0], [0.0, 0.0, 0.0, 0.0], [0.0, 0.0, 0.0, 0.0], [0.0, 0.0, 0.0, 0.0], [0.0, 0.0, 0.0, 0.0], [0.0, 0.0, 0.0, 0.0], [0.0, 0.0, 0.0, 0.0], [0.0, 0.0, 0.0, 0.0], [0.0, 0.0, 0.0, 0.0], [0.0, 0.0, 0.0, 0.0], [0.0, 0.0, 0.0, 0.0], [0.0, 0.0, 0.0, 0.0], [0.0, 0.0, 0.0, 0.0], [0.0, 0.0, 0.0, 0.0], [0.0, 0.0, 0.0, 0.0], [0.0, 0.0, 0.0, 0.0], [0.0, 0.0, 0.0, 0.0], [0.0, 0.0, 0.0, 0.0], [0.0, 0.0, 0.0, 0.0], [0.0, 0.0, 0.0, 0.0], [0.0, 0.0, 0.0, 0.0], [0.0, 0.0, 0.0, 0.0], [0.0, 0.0, 0.0, 0.0], [0.0, 0.0, 0.0, 0.0], [0.0, 0.0, 0.0, 0.0], [0.0, 0.0, 0.0, 0.0], [0.0, 0.0, 0.0, 0.0], [0.0, 0.0, 0.0, 0.0], [0.0, 0.0, 0.0, 0.0], [0.0, 0.0, 0.0, 0.0], [0.0, 0.0, 0.0, 0.0], [0.0, 0.0, 0.0, 0.0], [0.0, 0.0, 0.0, 0.0], [0.0, 0.0, 0.0, 0.0], [0.0, 0.0, 0.0, 0.0], [0.0, 0.0, 0.0, 0.0], [0.0, 0.0, 0.0, 0.0], [0.0, 0.0, 0.0, 0.0], [0.0, 0.0, 0.0, 0.0], [0.0, 0.0, 0.0, 0.0], [0.0, 0.0, 0.0, 0.0], [0.0, 0.0, 0.0, 0.0], [0.0, 0.0, 0.0, 0.0], [0.0, 0.0, 0.0, 0.0], [0.0, 0.0, 0.0, 0.0], [0.0, 0.0, 0.0, 0.0]]\n"
     ]
    }
   ],
   "source": [
    "#Defining different parameters\n",
    "epsilon = 0.9\n",
    "max_episode = 20000\n",
    "max_steps = 500\n",
    "alpha = 0.85\n",
    "gamma = 0.95\n",
    "decay = 0.00001\n",
    "action_space = [0,1,2,3]\n",
    "#Initializing the Q-matrix\n",
    "Q = [[float(0) for j in range(4)] for i in range(48)]\n",
    "print(Q)"
   ]
  },
  {
   "cell_type": "code",
   "execution_count": 6,
   "metadata": {},
   "outputs": [],
   "source": [
    "#Function to choose the next action\n",
    "def predict_action(state):\n",
    "    action_val = -1*math.inf\n",
    "    action = -1\n",
    "    for i in range(4):\n",
    "        if(action_val <= Q[state][i]):\n",
    "            action = i\n",
    "            action_val = Q[state][i]\n",
    "\n",
    "    return action\n"
   ]
  },
  {
   "cell_type": "code",
   "execution_count": 7,
   "metadata": {},
   "outputs": [],
   "source": [
    "\n",
    "# Starting the Q-learning\n",
    "for episode in range(max_episode):\n",
    "    t = 0\n",
    "    state1 = np.array(env.reset()[0])\n",
    "    action1 = env.action_space.sample()\n",
    "    done = False\n",
    "    while not done and t < max_steps:\n",
    "        #env.render()\n",
    "        #Getting the next state\n",
    "        state2, reward, done, _,_ = env.step(action1)\n",
    " \n",
    "        #Choosing the next action\n",
    "        if np.random.rand() < epsilon:\n",
    "            action2 = env.action_space.sample()\n",
    "        else:\n",
    "            action2 = predict_action(state2)\n",
    "        \n",
    "        #extra reward for reaching final state\n",
    "        if(state2 == 47):\n",
    "            reward += 100\n",
    "\n",
    "        \n",
    "        #Updating the Q-value\n",
    "        Curr_Q = Q[state1][action1]\n",
    "        net_reward = -1*math.inf\n",
    "\n",
    "        #taking max of all actions possible\n",
    "        for action in action_space:\n",
    "            net_reward = max(net_reward,reward + gamma * Q[state2][action])\n",
    "        \n",
    "\n",
    "        Q[state1][action1] = Q[state1][action1] + alpha * (net_reward - Curr_Q)\n",
    "\n",
    "    \n",
    "         \n",
    "        #Updating the respective vaLues\n",
    "        t += 1\n",
    "        epsilon = max(0.01,epsilon - decay)\n",
    "        state1 = state2\n",
    "        action1 = action2\n"
   ]
  },
  {
   "cell_type": "code",
   "execution_count": 8,
   "metadata": {},
   "outputs": [
    {
     "name": "stdout",
     "output_type": "stream",
     "text": [
      "[38.03332251474802, 41.08770791026108, 41.08770791026108, 38.03332251474802]\n",
      "[41.08770791026108, 44.30285043185377, 44.30285043185377, 38.03332251474802]\n",
      "[44.30285043185377, 47.687210980898705, 47.687210980898705, 41.08770791026108]\n",
      "[47.687210980898705, 51.24969576936706, 51.24969576936706, 44.30285043185377]\n",
      "[51.24969576936706, 54.999679757228485, 54.999679757228485, 47.687210980898705]\n",
      "[54.999679757228485, 58.947031323398406, 58.947031323398406, 51.24969576936706]\n",
      "[58.947031323398406, 63.10213823515622, 63.10213823515622, 54.999679757228485]\n",
      "[63.10213823515622, 67.47593498437497, 67.47593498437497, 58.947031323398406]\n",
      "[67.47593498437497, 72.07993156249998, 72.07993156249883, 63.10213823515622]\n",
      "[72.07993156249998, 76.92624374999998, 76.92624374999998, 67.47593498437497]\n",
      "[76.92624374996598, 82.02762499962621, 82.02762499999999, 72.07993156248814]\n",
      "[82.02762499565229, 82.02761310721749, 87.3975, 76.92622238463217]\n",
      "[38.03332251474802, 44.30285043185377, 44.30285043185377, 41.08770791026108]\n",
      "[41.08770791026108, 47.687210980898705, 47.687210980898705, 41.08770791026108]\n",
      "[44.30285043185377, 51.24969576936706, 51.24969576936706, 44.30285043185377]\n",
      "[47.687210980898705, 54.999679757228485, 54.999679757228485, 47.687210980898705]\n",
      "[51.24969576936706, 58.947031323398406, 58.947031323398406, 51.24969576936706]\n",
      "[54.999679757228485, 63.10213823515622, 63.10213823515622, 54.999679757228485]\n",
      "[58.947031323398406, 67.47593498437497, 67.47593498437497, 58.947031323398406]\n",
      "[63.10213823515622, 72.07993156249998, 72.07993156249998, 63.10213823515622]\n",
      "[67.47593498437497, 76.92624374999998, 76.92624374999998, 67.47593498437497]\n",
      "[72.07993156249998, 82.02762499999999, 82.02762499999999, 72.07993156249998]\n",
      "[76.92624374999998, 87.3975, 87.3975, 76.92624374999998]\n",
      "[82.02762499999999, 87.3975, 93.05, 82.02762499999999]\n",
      "[41.08770791026108, 47.687210980898705, 41.08770791026108, 44.30285043185377]\n",
      "[44.30285043185377, 51.24969576936706, -57.91229208973892, 44.30285043185377]\n",
      "[47.687210980898705, 54.999679757228485, -57.91229208973892, 47.687210980898705]\n",
      "[51.24969576936706, 58.947031323398406, -57.91229208973892, 51.24969576936706]\n",
      "[54.999679757228485, 63.10213823515622, -57.91229208973892, 54.999679757228485]\n",
      "[58.947031323398406, 67.47593498437497, -57.91229208973892, 58.947031323398406]\n",
      "[63.10213823515622, 72.07993156249998, -57.91229208973892, 63.10213823515622]\n",
      "[67.47593498437497, 76.92624374999998, -57.91229208973892, 67.47593498437497]\n",
      "[72.07993156249998, 82.02762499999999, -57.91229208973892, 72.07993156249998]\n",
      "[76.92624374999998, 87.3975, -57.91229208973892, 76.92624374999998]\n",
      "[82.02762499999999, 93.05, -57.91229208973892, 82.02762499999999]\n",
      "[87.3975, 93.05, 99.0, 87.3975]\n",
      "[44.30285043185377, -57.91229208973892, 41.08770791026108, 41.08770791026108]\n",
      "[0.0, 0.0, 0.0, 0.0]\n",
      "[0.0, 0.0, 0.0, 0.0]\n",
      "[0.0, 0.0, 0.0, 0.0]\n",
      "[0.0, 0.0, 0.0, 0.0]\n",
      "[0.0, 0.0, 0.0, 0.0]\n",
      "[0.0, 0.0, 0.0, 0.0]\n",
      "[0.0, 0.0, 0.0, 0.0]\n",
      "[0.0, 0.0, 0.0, 0.0]\n",
      "[0.0, 0.0, 0.0, 0.0]\n",
      "[0.0, 0.0, 0.0, 0.0]\n",
      "[0.0, 0.0, 0.0, 0.0]\n",
      "Episode 1 : score = -13\n"
     ]
    }
   ],
   "source": [
    "epsilon = 0\n",
    "for i in range(48):\n",
    "    print(Q[i])\n",
    "\n",
    "#Random testing\n",
    "episodes = 1\n",
    "env = gym.make(\"CliffWalking-v0\", render_mode = \"human\")\n",
    "for episode in range(0,episodes):\n",
    "    state = np.array(env.reset()[0])\n",
    "    done = False\n",
    "    score = 0\n",
    "    steps = 0\n",
    "    while not done and steps < 100:\n",
    "        action = predict_action(state)\n",
    "        state, reward, done,_,_  = env.step(action)\n",
    "        steps+=1\n",
    "        score+=reward\n",
    "        env.render()\n",
    "    \n",
    "    print(f\"Episode {episode+1} : score = {score}\")\n",
    "env.close()\n"
   ]
  },
  {
   "cell_type": "code",
   "execution_count": 9,
   "metadata": {},
   "outputs": [
    {
     "name": "stdout",
     "output_type": "stream",
     "text": [
      "['down ', 'down ', 'down ', 'down ', 'down ', 'down ', 'down ', 'down ', 'right', 'down ', 'down ', 'down ']\n",
      "['down ', 'down ', 'down ', 'down ', 'down ', 'down ', 'down ', 'down ', 'down ', 'down ', 'down ', 'down ']\n",
      "['right', 'right', 'right', 'right', 'right', 'right', 'right', 'right', 'right', 'right', 'right', 'down ']\n",
      "[' up  ', 'left ', 'left ', 'left ', 'left ', 'left ', 'left ', 'left ', 'left ', 'left ', 'left ', 'left ']\n"
     ]
    }
   ],
   "source": [
    "# End policy\n",
    "policy = [[\"\" for i in range(12)] for i in range(4)]\n",
    "for i in range(48):\n",
    "    action = predict_action(i)\n",
    "    d = \"\"\n",
    "    if(action == 0): d = \" up  \"\n",
    "    elif(action == 1): d = \"right\"\n",
    "    elif(action == 2): d = \"down \"\n",
    "    else: d = \"left \"\n",
    "    policy[i//12][i%12] = d\n",
    "\n",
    "        \n",
    "for i in range(4):\n",
    "    print(policy[i])"
   ]
  }
 ],
 "metadata": {
  "kernelspec": {
   "display_name": "Python 3",
   "language": "python",
   "name": "python3"
  },
  "language_info": {
   "codemirror_mode": {
    "name": "ipython",
    "version": 3
   },
   "file_extension": ".py",
   "mimetype": "text/x-python",
   "name": "python",
   "nbconvert_exporter": "python",
   "pygments_lexer": "ipython3",
   "version": "3.10.6"
  },
  "orig_nbformat": 4
 },
 "nbformat": 4,
 "nbformat_minor": 2
}
